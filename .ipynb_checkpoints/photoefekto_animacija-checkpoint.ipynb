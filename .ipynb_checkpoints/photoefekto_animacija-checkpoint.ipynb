{
 "cells": [
  {
   "cell_type": "code",
   "execution_count": 8,
   "id": "a035a2ee",
   "metadata": {},
   "outputs": [
    {
     "data": {
      "text/html": [
       "<pre style=\"white-space:pre;overflow-x:auto;line-height:normal;font-family:Menlo,'DejaVu Sans Mono',consolas,'Courier New',monospace\">Manim Community <span style=\"color: #008000\">v0.15.2</span>\n",
       "\n",
       "</pre>\n"
      ],
      "text/plain": [
       "<rich.jupyter.JupyterRenderable at 0x1d9a3b4b130>"
      ]
     },
     "metadata": {},
     "output_type": "display_data"
    }
   ],
   "source": [
    "import numpy as np\n",
    "import matplotlib.pyplot as plt\n",
    "import ipywidgets as widgets\n",
    "import json\n",
    "from manim import *"
   ]
  },
  {
   "cell_type": "code",
   "execution_count": 4,
   "id": "e2349f99",
   "metadata": {},
   "outputs": [
    {
     "data": {
      "image/png": "[encoded data removed]",
      "text/plain": [
       "<Figure size 600x400 with 2 Axes>"
      ]
     },
     "metadata": {
      "needs_background": "light"
     },
     "output_type": "display_data"
    }
   ],
   "source": [
    "plt.rcParams['figure.figsize'] = [6, 4]\n",
    "plt.rcParams['figure.dpi'] = 100\n",
    "\n",
    "experiment = photoelectric_effect_experiment(\n",
    "    'cyan',\n",
    "    'Na',\n",
    ")\n",
    "experiment.calculate_kinetic_energy()\n",
    "experiment.start_experiment(intervals=101)\n",
    "results = experiment.return_results()\n",
    "experiment.plot_results()"
   ]
  },
  {
   "cell_type": "code",
   "execution_count": 3,
   "id": "58a456f9",
   "metadata": {},
   "outputs": [],
   "source": [
    "SPEED_OF_LIGHT = 3 * 10 ** 8          #m/s\n",
    "ELECTRON_MASS = 9.1 * 10 ** (-31)     #kg\n",
    "\n",
    "class photoelectric_effect_experiment():\n",
    "    def __init__(\n",
    "        self,\n",
    "        light,\n",
    "        metal,\n",
    "        photon_energies='./fotonai.json',\n",
    "        work_functions='./metalai.json',\n",
    "        t_start=0,\n",
    "        t_experiment=10,\n",
    "        light_intensity=1\n",
    "    ):\n",
    "        self.all_metals = json.load(open(work_functions))\n",
    "        self.all_photons = json.load(open(photon_energies))\n",
    "        self.t_start = t_start\n",
    "        self.t = t_experiment\n",
    "        self.intensity = light_intensity\n",
    "        self.metal = metal\n",
    "        self.light = light\n",
    "        \n",
    "    def calculate_kinetic_energy(self):\n",
    "        self.electron_ke = self.all_photons[self.light][\"energy(eV)\"] - \\\n",
    "            self.all_metals[self.metal][\"work_function\"]\n",
    "        if self.electron_ke <= 0: \n",
    "            self.electron_ke = 0\n",
    "            \n",
    "    def start_experiment(self, intervals):\n",
    "        self.t = np.linspace(self.t_start, self.t, intervals)\n",
    "        self.count = []\n",
    "        self.count_comulative = []\n",
    "        self.energies = []\n",
    "        if self.electron_ke < 0:\n",
    "            self.count_comulative = np.zeros(len(self.t))\n",
    "            self.count = np.zeros(len(self.t))\n",
    "            self.energies = np.zeros(len(self.t))\n",
    "            self.photon_colors = [''] * len(self.t)\n",
    "            self.metal_name = [self.metal] * len(self.t)\n",
    "        else:\n",
    "            self.count_comulative = self.t * self.intensity\n",
    "            self.count = [self.intensity] * len(self.t)\n",
    "            self.energies = [self.electron_ke] * len(self.t)\n",
    "            self.photon_colors = [self.all_photons[self.light][\"color\"]] * len(self.t)\n",
    "            self.metal_names = [self.metal] * len(self.t)\n",
    "    def return_results(self):\n",
    "        return {\n",
    "            \"time\":self.t,\n",
    "            \"energies\":self.energies,\n",
    "            \"count\":self.count,\n",
    "            \"count_comulative\":self.count_comulative,\n",
    "            \"photon_color\":self.photon_colors,\n",
    "            \"metal_name\":self.metal_names\n",
    "        }\n",
    "    def plot_results(self):\n",
    "        fig, (ax1, ax2) = plt.subplots(2, sharex=True, sharey=False)\n",
    "        ax1.plot(self.t, self.count_comulative)\n",
    "        ax1.set_xlabel('laikas')\n",
    "        ax2.plot(self.t, self.count)\n",
    "        fig.suptitle('Išlaisvinti elektronai')\n",
    "                     \n",
    "        for ax in ax1, ax2:\n",
    "            ax.grid(True)\n",
    "        ax1.set_xlabel('laikas, s')\n",
    "        ax1.set_ylabel('visi užfiksuoti elektronai',fontsize=10)\n",
    "        ax2.set_ylabel('užfiksuoti elektronai per vienetinį laiką', fontsize=7)\n",
    "        fig.tight_layout()\n",
    "        for label in ax2.get_xticklabels():\n",
    "            label.set_visible(True)\n",
    "        plt.show()\n",
    "        "
   ]
  },
  {
   "cell_type": "code",
   "execution_count": null,
   "id": "b31572de",
   "metadata": {},
   "outputs": [
    {
     "name": "stderr",
     "output_type": "stream",
     "text": [
      "Animation 0: AnimationGroup(Group), etc.:  88%|#################################5    | 529/600 [00:11<00:01, 45.38it/s]"
     ]
    }
   ],
   "source": [
    "%%manim -qh -v WARNING Photon_release_scene\n",
    "import random\n",
    "\n",
    "random.seed(1)\n",
    "\n",
    "class Photon_release_scene(Scene):\n",
    "    def construct(self):\n",
    "        experiment = photoelectric_effect_experiment(\n",
    "            'cyan',\n",
    "            'Na',\n",
    "        )\n",
    "        experiment.calculate_kinetic_energy()\n",
    "        experiment.start_experiment(intervals=11)\n",
    "        data = experiment.return_results()\n",
    "        time_per_electron = max(data[\"count_comulative\"])/max(data[\"time\"])\n",
    "        \n",
    "        photon_data=zip(data[\"time\"],data[\"photon_color\"])\n",
    "        electron_data=zip(data[\"time\"], data[\"energies\"], data[\"count\"])\n",
    "        \n",
    "        photons = VGroup(\n",
    "            *[Dot(color=color) for time, color in photon_data]\n",
    "        ).shift(UP*5)\n",
    "        for photon in photons:\n",
    "            photon.shift(random.randint(-2,2)*LEFT)\n",
    "            \n",
    "        self.add(photons)\n",
    "        \n",
    "        electrons = VGroup(\n",
    "            *[Circle(color=BLUE, fill_opacity=1).shift(5*RIGHT) \n",
    "              for _ in range(int(max(data[\"count_comulative\"])))]\n",
    "        )\n",
    "        self.play(\n",
    "            AnimationGroup(\n",
    "                FadeOut(photons, lag_ratio=time_per_electron/2, run_time=max(data[\"time\"]), shift=5*DOWN+5*RIGHT)\n",
    "            ),\n",
    "            AnimationGroup(\n",
    "                FadeIn(electrons,lag_ratio=time_per_electron/2, run_time=max(data[\"time\"]))\n",
    "            ),\n",
    "            AnimationGroup(\n",
    "                electrons.animate(lag_ratio=time_per_electron/2, run_time=max(data[\"time\"])).shift(LEFT * 10)\n",
    "            ),\n",
    "            #AnimationGroup(\n",
    "            #    FadeOut(photons, lag_ratio=time_per_electron/2)\n",
    "            #)\n",
    "        )\n",
    "        self.wait()"
   ]
  },
  {
   "cell_type": "code",
   "execution_count": null,
   "id": "11f1dc87",
   "metadata": {},
   "outputs": [],
   "source": []
  }
 ],
 "metadata": {
  "kernelspec": {
   "display_name": "Python 3",
   "language": "python",
   "name": "python3"
  },
  "language_info": {
   "codemirror_mode": {
    "name": "ipython",
    "version": 3
   },
   "file_extension": ".py",
   "mimetype": "text/x-python",
   "name": "python",
   "nbconvert_exporter": "python",
   "pygments_lexer": "ipython3",
   "version": "3.8.8"
  }
 },
 "nbformat": 4,
 "nbformat_minor": 5
}
