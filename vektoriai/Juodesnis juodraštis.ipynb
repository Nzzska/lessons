{
 "cells": [
  {
   "cell_type": "code",
   "execution_count": 1,
   "id": "1b5ba486",
   "metadata": {},
   "outputs": [
    {
     "data": {
      "text/html": [
       "<pre style=\"white-space:pre;overflow-x:auto;line-height:normal;font-family:Menlo,'DejaVu Sans Mono',consolas,'Courier New',monospace\">Manim Community <span style=\"color: #008000\">v0.15.2</span>\n",
       "\n",
       "</pre>\n"
      ],
      "text/plain": [
       "<rich.jupyter.JupyterRenderable at 0x2c2a44ace80>"
      ]
     },
     "metadata": {},
     "output_type": "display_data"
    }
   ],
   "source": [
    "from manim import *"
   ]
  },
  {
   "cell_type": "code",
   "execution_count": 23,
   "id": "2f09b93e",
   "metadata": {},
   "outputs": [
    {
     "name": "stderr",
     "output_type": "stream",
     "text": [
      "                                                                                                                       \r"
     ]
    },
    {
     "data": {
      "text/html": [
       "<video src=\"media\\jupyter\\Updaters_test@2022-05-21@10-33-54.mp4\" controls autoplay loop style=\"max-width: 60%;\"  >\n",
       "      Your browser does not support the <code>video</code> element.\n",
       "    </video>"
      ],
      "text/plain": [
       "<IPython.core.display.Video object>"
      ]
     },
     "metadata": {},
     "output_type": "display_data"
    }
   ],
   "source": [
    "%%manim -qh -v WARNING --disable_caching Updaters_test\n",
    "\n",
    "class Updaters_test(Scene):\n",
    "    def buk_salia(self, mobj, other_mobj):\n",
    "        mobj.next_to(other_mobj)\n",
    "        \n",
    "    def construct(self):\n",
    "        \n",
    "        #f1_trackers.set_attribute(hello,1)\n",
    "        #f2_trackers = VGroup(ValueTracker(5), ValueTracker(0), ValueTracker(0))\n",
    "        \n",
    "        apskritim = Circle(radius=2, color=WHITE)\n",
    "        staciakamp = Square(color=BLUE).next_to(apskritim)\n",
    "        \n",
    "        staciakamp.add_updater(lambda m: self.buk_salia(mobj=m ,other_mobj=apskritim))\n",
    "        \n",
    "        self.add(apskritim, staciakamp)\n",
    "        self.play(apskritim.animate().shift(2*LEFT))\n",
    "        "
   ]
  },
  {
   "cell_type": "code",
   "execution_count": null,
   "id": "7296e0a9",
   "metadata": {},
   "outputs": [],
   "source": []
  }
 ],
 "metadata": {
  "kernelspec": {
   "display_name": "Python 3",
   "language": "python",
   "name": "python3"
  },
  "language_info": {
   "codemirror_mode": {
    "name": "ipython",
    "version": 3
   },
   "file_extension": ".py",
   "mimetype": "text/x-python",
   "name": "python",
   "nbconvert_exporter": "python",
   "pygments_lexer": "ipython3",
   "version": "3.8.8"
  }
 },
 "nbformat": 4,
 "nbformat_minor": 5
}
