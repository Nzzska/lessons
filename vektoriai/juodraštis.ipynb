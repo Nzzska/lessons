{
 "cells": [
  {
   "cell_type": "code",
   "execution_count": 1,
   "id": "ead8cc9e",
   "metadata": {},
   "outputs": [
    {
     "data": {
      "text/html": [
       "<pre style=\"white-space:pre;overflow-x:auto;line-height:normal;font-family:Menlo,'DejaVu Sans Mono',consolas,'Courier New',monospace\">Manim Community <span style=\"color: #008000; text-decoration-color: #008000\">v0.15.2</span>\n",
       "\n",
       "</pre>\n"
      ],
      "text/plain": [
       "Manim Community \u001b[32mv0.\u001b[0m\u001b[32m15.2\u001b[0m\n",
       "\n"
      ]
     },
     "metadata": {},
     "output_type": "display_data"
    }
   ],
   "source": [
    "from manim import *\n",
    "# magic cell syntax : %%manim -qh -v WARNING {scene name}"
   ]
  },
  {
   "cell_type": "code",
   "execution_count": 2,
   "id": "2e597f46",
   "metadata": {},
   "outputs": [
    {
     "name": "stderr",
     "output_type": "stream",
     "text": [
      "                                                                                                     \r"
     ]
    },
    {
     "name": "stdout",
     "output_type": "stream",
     "text": [
      "[-3.  0.  0.]\n",
      "[5. 0. 0.]\n",
      "[2. 0. 0.]\n"
     ]
    },
    {
     "data": {
      "text/html": [
       "<video src=\"media\\jupyter\\Towing_scene@2022-05-22@21-22-07.mp4\" controls autoplay loop style=\"max-width: 60%;\"  >\n",
       "      Your browser does not support the <code>video</code> element.\n",
       "    </video>"
      ],
      "text/plain": [
       "<IPython.core.display.Video object>"
      ]
     },
     "metadata": {},
     "output_type": "display_data"
    }
   ],
   "source": [
    "%%manim -qk -v WARNING --disable_caching Towing_scene\n",
    "    \n",
    "class Towing_scene(Scene):\n",
    "    def ttnparr(self, t): #t - tracker\n",
    "        return np.array([i.get_value() for i in t])\n",
    "    \n",
    "    def above_vector(self, mobj, vec_mobj):\n",
    "        mobj.next_to(vec_mobj, UP)\n",
    "        \n",
    "    def update_vector(\n",
    "        self, \n",
    "        mobj_vector, \n",
    "        mobj_tracker, \n",
    "        center_mobj, \n",
    "        color,\n",
    "        stroke_width=3):\n",
    "        mobj_vector.become(\n",
    "            Arrow(\n",
    "                start=center_mobj.get_center(),\n",
    "                end=self.ttnparr(mobj_tracker) + center_mobj.get_center(),\n",
    "                buff=0,\n",
    "                color=color,\n",
    "                stroke_width=stroke_width\n",
    "            )\n",
    "        )\n",
    "    \n",
    "    def add_trackers(self, trackers1, trackers2):\n",
    "        given_trackers = zip(trackers1, trackers2)\n",
    "        resultant_trackers = []\n",
    "        for t1, t2 in given_trackers:\n",
    "            active_tracker = ValueTracker(t1.get_value()+t2.get_value())\n",
    "            resultant_trackers.append(active_tracker)\n",
    "        return resultant_trackers\n",
    "\n",
    "    def construct(self):\n",
    "        \n",
    "        box = Square(side_length=2, color=GREEN, fill_opacity=0.2)\n",
    "        \n",
    "        f1_trackers = [ValueTracker(-3), ValueTracker(0), ValueTracker(0)]\n",
    "        f2_trackers = [ValueTracker(5), ValueTracker(0), ValueTracker(0)]\n",
    "        \n",
    "        fsum_trackers = self.add_trackers(f1_trackers, f2_trackers)\n",
    "        fsum_trackers[0].add_updater(\n",
    "            lambda m: m.set_value(\n",
    "                f1_trackers[0].get_value() + f2_trackers[0].get_value()\n",
    "            )\n",
    "        )\n",
    "        fsum_trackers[1].add_updater(\n",
    "            lambda m: m.set_value(\n",
    "                f1_trackers[1].get_value() + f2_trackers[1].get_value()\n",
    "            )\n",
    "        )\n",
    "        fsum_trackers[2].add_updater(\n",
    "            lambda m: m.set_value(\n",
    "                f1_trackers[2].get_value() + f2_trackers[2].get_value()\n",
    "            )\n",
    "        )\n",
    "        \n",
    "        vec1 = Arrow(\n",
    "                start=box.get_center(), \n",
    "                end=self.ttnparr(f1_trackers) + box.get_center(), \n",
    "                color=BLUE, \n",
    "                buff=0\n",
    "        ).add_updater(\n",
    "            lambda m: self.update_vector(\n",
    "                mobj_vector=m, \n",
    "                mobj_tracker=f1_trackers, \n",
    "                center_mobj=box,\n",
    "                color=BLUE\n",
    "            )\n",
    "        )\n",
    "        vec1_name = Tex('$\\\\vec{F_1}$', color=BLUE)\\\n",
    "        .next_to(vec1, UP)\n",
    "        \n",
    "        vec2 = Arrow(\n",
    "                start=box.get_center(), \n",
    "                end=self.ttnparr(f2_trackers) + box.get_center(), \n",
    "                color=RED, \n",
    "                buff=0\n",
    "        ).add_updater(\n",
    "            lambda m: self.update_vector(\n",
    "                mobj_vector=m, \n",
    "                mobj_tracker=f2_trackers, \n",
    "                center_mobj=box,\n",
    "                color=RED\n",
    "            )\n",
    "        )\n",
    "        vec2_name = Tex('$\\\\vec{F_2}$', color=RED).next_to(vec2, UP)\n",
    "\n",
    "        vec_sum = Arrow(\n",
    "            start=box.get_center(),\n",
    "            end=self.ttnparr(fsum_trackers) + box.get_center(),\n",
    "            color=GREEN,\n",
    "            buff=0,\n",
    "            stroke_width=5\n",
    "        ).add_updater(\n",
    "            lambda m: self.update_vector(\n",
    "                mobj_vector=m,\n",
    "                mobj_tracker=fsum_trackers,\n",
    "                center_mobj=box,\n",
    "                color=GREEN,\n",
    "                stroke_width=5\n",
    "            )\n",
    "        )\n",
    "        vec_sum_name = Tex('$\\\\vec{F_1}+$'+'$\\\\vec{F_2}$', color=WHITE)\\\n",
    "        .next_to(vec_sum, UP)\n",
    "        \n",
    "        init_vectors = VGroup(vec1.copy(), vec2.copy())\n",
    "        init_names = VGroup(\n",
    "            vec1_name.copy().add_updater(lambda m: self.above_vector(m, init_vectors[0])),\n",
    "            vec2_name.copy().add_updater(lambda m: self.above_vector(m, init_vectors[1]))\n",
    "        )\n",
    "        init_items = init_vectors + init_names\n",
    "        sum_group = VGroup(\n",
    "            vec_sum, \n",
    "            vec_sum_name.add_updater(lambda m: self.above_vector(m, vec_sum))\n",
    "        )\n",
    "        self.ttnparr(fsum_trackers)\n",
    "        self.add(box, init_items)\n",
    "        self.play(\n",
    "            FadeOut(init_items),\n",
    "            ReplacementTransform(\n",
    "                init_items.copy(), \n",
    "                sum_group\n",
    "            )\n",
    "        )\n",
    "        self.play(\n",
    "            box.animate().shift(2*RIGHT)\n",
    "        )\n",
    "        self.play(\n",
    "            FadeOut(sum_group),\n",
    "            FadeIn(init_items),\n",
    "        )\n",
    "        self.play(\n",
    "            f1_trackers[0].animate().set_value(-5),\n",
    "            f2_trackers[0].animate().set_value(3),\n",
    "            fsum_trackers[0].animate(),\n",
    "            fsum_trackers[1].animate(),\n",
    "            fsum_trackers[2].animate()\n",
    "        )\n",
    "        self.play(\n",
    "            FadeOut(init_items),\n",
    "            ReplacementTransform(init_items.copy(), sum_group)\n",
    "        )\n",
    "        self.play(\n",
    "            box.animate().shift(2*LEFT)\n",
    "        )\n",
    "        self.play(\n",
    "            FadeOut(sum_group),\n",
    "            FadeIn(init_items),\n",
    "        )\n",
    "        self.play(\n",
    "            f1_trackers[0].animate().set_value(0),\n",
    "            f1_trackers[1].animate().set_value(-3)\n",
    "        )\n",
    "        self.play(\n",
    "            FadeOut(init_items),\n",
    "            ReplacementTransform(init_items.copy(), sum_group)\n",
    "        )\n",
    "        self.play(\n",
    "            box.animate().shift(RIGHT+DOWN)\n",
    "        )\n",
    "        self.play(\n",
    "            FadeOut(sum_group),\n",
    "            FadeIn(init_items),\n",
    "        )\n",
    "        self.play(\n",
    "            f2_trackers[0].animate().set_value(-3),\n",
    "            f1_trackers[1].animate().set_value(+3)\n",
    "        )\n",
    "        self.play(\n",
    "            FadeOut(init_items),\n",
    "            ReplacementTransform(init_items.copy(), sum_group)\n",
    "        )\n",
    "        self.play(\n",
    "            box.animate().shift(UP+LEFT)\n",
    "        )\n",
    "        self.play(\n",
    "            FadeOut(sum_group),\n",
    "            FadeIn(init_items),\n",
    "        )\n",
    "        self.play(\n",
    "            f1_trackers[0].animate().set_value(-3),\n",
    "            f2_trackers[0].animate().set_value(5),\n",
    "            f1_trackers[1].animate().set_value(0)\n",
    "        )\n",
    "\n",
    "        print(self.ttnparr(f1_trackers))\n",
    "        print(self.ttnparr(f2_trackers))\n",
    "        print(self.ttnparr(fsum_trackers))"
   ]
  },
  {
   "cell_type": "code",
   "execution_count": 3,
   "id": "9fcd5895",
   "metadata": {},
   "outputs": [
    {
     "name": "stderr",
     "output_type": "stream",
     "text": [
      "                                                                                  \r"
     ]
    },
    {
     "data": {
      "text/html": [
       "<video src=\"media\\jupyter\\Centripidal_acceleration@2022-05-22@21-22-27.mp4\" controls autoplay loop style=\"max-width: 60%;\"  >\n",
       "      Your browser does not support the <code>video</code> element.\n",
       "    </video>"
      ],
      "text/plain": [
       "<IPython.core.display.Video object>"
      ]
     },
     "metadata": {},
     "output_type": "display_data"
    }
   ],
   "source": [
    "%%manim -qh -v WARNING --disable_caching Centripidal_acceleration\n",
    "\n",
    "def statusis(vec):\n",
    "    x = vec[0]\n",
    "    y = vec[1]\n",
    "    return np.array([-1*y, x, 0])\n",
    "\n",
    "class Centripidal_acceleration(Scene):\n",
    "    def construct(self):\n",
    "        fps = 60\n",
    "        dt = 1/60\n",
    "        r = 3\n",
    "        \n",
    "        num_plane = NumberPlane()\n",
    "        \n",
    "        pth = Circle(color=BLUE, radius=r)\n",
    "        red_dot = Dot([3, 0, 0], color=RED)\n",
    "        a_vec = Arrow(\n",
    "            start=np.array(red_dot.get_center()), \n",
    "            end=np.array([0,0,0]),\n",
    "            buff=0, \n",
    "            color=RED\n",
    "        ).add_updater(\n",
    "            lambda m: m.become(Arrow(\n",
    "                start=np.array(red_dot.get_center()), \n",
    "                buff=0, \n",
    "                end=np.array([0,0,0]), \n",
    "                color=RED)\n",
    "            )\n",
    "        )\n",
    "        a_txt = Tex(\"pagreitis $\\\\vec{a}$\", color=RED).next_to(a_vec)\n",
    "        a_txt.add_updater(lambda m: m.next_to(a_vec))\n",
    "        v_vec = Arrow(\n",
    "            start=np.array(red_dot.get_center()), \n",
    "            end=red_dot.get_center() + statusis(red_dot.get_center()),\n",
    "            buff=0,\n",
    "            color=GREEN\n",
    "        ).add_updater(\n",
    "            lambda m: m.become(\n",
    "                Arrow(\n",
    "                    start=np.array(red_dot.get_center()), \n",
    "                    end=red_dot.get_center() + statusis(red_dot.get_center()),\n",
    "                    buff=0,\n",
    "                    color=GREEN\n",
    "                )\n",
    "            )\n",
    "        )\n",
    "        v_txt = Tex('greitis $\\\\vec{v}$', color = GREEN).add_updater(lambda m: m.move_to(v_vec))\n",
    "        self.add(    \n",
    "            num_plane,\n",
    "            pth,\n",
    "            red_dot,\n",
    "            a_vec,\n",
    "            v_vec,\n",
    "            a_txt,\n",
    "            v_txt\n",
    "        )\n",
    "        self.play(MoveAlongPath(red_dot, pth, run_time=5, rate_func=linear))\n",
    "        "
   ]
  },
  {
   "cell_type": "code",
   "execution_count": 30,
   "id": "476612d9",
   "metadata": {},
   "outputs": [
    {
     "name": "stdout",
     "output_type": "stream",
     "text": [
      "-1.0\n"
     ]
    },
    {
     "name": "stderr",
     "output_type": "stream",
     "text": [
      "Waiting 0:   0%|          | 0/150 [00:00<?, ?it/s]"
     ]
    },
    {
     "name": "stdout",
     "output_type": "stream",
     "text": [
      "-0.9351274638573366\n"
     ]
    },
    {
     "name": "stderr",
     "output_type": "stream",
     "text": [
      "Waiting 0:  14%|#4        | 21/150 [00:00<00:02, 58.53it/s]"
     ]
    },
    {
     "name": "stdout",
     "output_type": "stream",
     "text": [
      "-0.7882054380161092\n",
      "-0.6317571033536967\n",
      "-0.5077861351663757\n",
      "-0.4112126177968525\n",
      "-0.33151880693784064\n",
      "-0.26102625127014883\n",
      "-0.19477225641915027\n",
      "-0.12960889179174842\n",
      "-0.0636283636591949\n",
      "0.004135843525584643\n",
      "0.07386609568677516\n",
      "0.14507368827628853\n",
      "0.2167323962703261\n",
      "0.2874641597899622\n",
      "0.3557705017564588\n",
      "0.42026925239721324\n",
      "0.4798828026335438\n",
      "0.5339389575981698\n",
      "0.5821779154288096\n",
      "0.6246885636420605\n"
     ]
    },
    {
     "name": "stderr",
     "output_type": "stream",
     "text": [
      "Waiting 0:  21%|##        | 31/150 [00:00<00:01, 71.33it/s]"
     ]
    },
    {
     "name": "stdout",
     "output_type": "stream",
     "text": [
      "0.6618101791244139\n",
      "0.6940315505191487\n",
      "0.7219070108766046\n",
      "0.745996395333841\n",
      "0.7668277066666976\n",
      "0.7848775662360308\n",
      "0.8005638897049059\n",
      "0.8142460781107997\n",
      "0.8262292933889549\n",
      "0.8367705651077441\n",
      "0.8460853732952678\n",
      "0.8543539658078781\n",
      "0.861727055924857\n",
      "0.8683307739430751\n",
      "0.8742708712349534\n",
      "0.879636236659298\n",
      "0.8845018099875442\n",
      "0.8889309817898104\n",
      "0.8929775639801736\n",
      "0.896687405652713\n",
      "0.900099718055034\n"
     ]
    },
    {
     "name": "stderr",
     "output_type": "stream",
     "text": [
      "Waiting 0:  35%|###4      | 52/150 [00:00<00:01, 86.23it/s]"
     ]
    },
    {
     "name": "stdout",
     "output_type": "stream",
     "text": [
      "0.9032481621214151\n",
      "0.9061617426328614\n",
      "0.9088655450233007\n",
      "0.9113813441049087\n",
      "0.913728108423806\n",
      "0.9159224194214125\n",
      "0.9179788209028883\n",
      "0.9199101113511612\n",
      "0.9217275892410539\n",
      "0.9234412595917812\n",
      "0.9250600084557163\n",
      "0.9265917508021512\n",
      "0.9280435562565222\n",
      "0.9294217563499596\n",
      "0.9307320362825047\n",
      "0.9319795136752062\n",
      "0.9331688063570905\n",
      "0.9343040908832809\n",
      "0.9353891531947619\n",
      "0.9364274325961627\n"
     ]
    },
    {
     "name": "stderr",
     "output_type": "stream",
     "text": [
      "Waiting 0:  48%|####8     | 72/150 [00:00<00:00, 92.03it/s]"
     ]
    },
    {
     "name": "stdout",
     "output_type": "stream",
     "text": [
      "0.9374220600355246\n",
      "0.9383758915114894\n",
      "0.9392915373023252\n",
      "0.9401713876026365\n",
      "0.94101763506337\n",
      "0.9418322946555304\n",
      "0.9426172212151789\n",
      "0.9433741249746369\n",
      "0.9441045853405657\n",
      "0.94481006314234\n",
      "0.9454919115426482\n",
      "0.9461513857756156\n",
      "0.9467896518551185\n",
      "0.9474077943767274\n",
      "0.9480068235202902\n",
      "0.9485876813461559\n",
      "0.9491512474660023\n",
      "0.949698344158925\n",
      "0.9502297409945558\n",
      "0.9507461590173217\n"
     ]
    },
    {
     "name": "stderr",
     "output_type": "stream",
     "text": [
      "Waiting 0:  61%|######1   | 92/150 [00:01<00:00, 94.55it/s]"
     ]
    },
    {
     "name": "stdout",
     "output_type": "stream",
     "text": [
      "0.9512482745393408\n",
      "0.9517367225837143\n",
      "0.95221210001501\n",
      "0.9526749683893984\n",
      "0.9531258565531538\n",
      "0.9535652630149319\n",
      "0.9539936581143724\n",
      "0.954411486007062\n",
      "0.9548191664836786\n",
      "0.9552170966392093\n",
      "0.9556056524064181\n",
      "0.9559851899662467\n",
      "0.9563560470464886\n",
      "0.9567185441189194\n",
      "0.9570729855040089\n",
      "0.957419660391429\n",
      "0.9577588437837475\n",
      "0.9580907973699666\n",
      "0.9584157703349189\n",
      "0.9587340001099497\n"
     ]
    },
    {
     "name": "stderr",
     "output_type": "stream",
     "text": [
      "Waiting 0:  75%|#######4  | 112/150 [00:01<00:00, 95.33it/s]"
     ]
    },
    {
     "name": "stdout",
     "output_type": "stream",
     "text": [
      "0.9590457130698024\n",
      "0.9593511251801515\n",
      "0.9596504425998242\n",
      "0.9599438622413701\n",
      "0.9602315722933065\n",
      "0.9605137527070745\n",
      "0.9607905756514569\n",
      "0.9610622059369782\n",
      "0.9613288014125796\n",
      "0.961590513336667\n",
      "0.9618474867244499\n",
      "0.9620998606733264\n",
      "0.9623477686679225\n",
      "0.9625913388662605\n",
      "0.962830694368412\n",
      "0.9630659534688795\n",
      "0.9632972298938464\n",
      "0.9635246330243552\n",
      "0.9637482681063777\n",
      "0.9639682364486747\n"
     ]
    },
    {
     "name": "stderr",
     "output_type": "stream",
     "text": [
      "Waiting 0:  88%|########8 | 132/150 [00:01<00:00, 96.09it/s]"
     ]
    },
    {
     "name": "stdout",
     "output_type": "stream",
     "text": [
      "0.9641846356092685\n",
      "0.9643975595712903\n",
      "0.9646070989089075\n",
      "0.964813340943979\n",
      "0.9650163698940449\n",
      "0.9652162670122055\n",
      "0.9654131107194074\n",
      "0.9656069767296181\n",
      "0.9657979381683334\n",
      "0.9659860656848288\n",
      "0.9661714275585461\n",
      "0.9663540897999625\n",
      "0.9665341162462866\n",
      "0.9667115686522814\n",
      "0.9668865067765097\n",
      "0.9670589884632672\n",
      "0.9672290697204572\n",
      "0.967396804793641\n",
      "0.9675622462364808\n",
      "0.967725444977784\n"
     ]
    },
    {
     "name": "stderr",
     "output_type": "stream",
     "text": [
      "                                                            \r"
     ]
    },
    {
     "name": "stdout",
     "output_type": "stream",
     "text": [
      "0.9678864503853378\n",
      "0.9680453103267135\n",
      "0.9682020712272101\n",
      "0.9683567781250928\n",
      "0.968509474724274\n",
      "0.9686602034445766\n",
      "0.9688090054697082\n",
      "0.968955920793067\n",
      "0.9691009882614963\n"
     ]
    },
    {
     "data": {
      "text/html": [
       "<video src=\"media\\jupyter\\Pendulum@2022-05-23@00-50-58.mp4\" controls autoplay loop style=\"max-width: 60%;\"  >\n",
       "      Your browser does not support the <code>video</code> element.\n",
       "    </video>"
      ],
      "text/plain": [
       "<IPython.core.display.Video object>"
      ]
     },
     "metadata": {},
     "output_type": "display_data"
    }
   ],
   "source": [
    "%%manim -ql -v WARNING --disable_caching Pendulum\n",
    "import numpy.linalg as la\n",
    "\n",
    "class Pendulum(Scene):\n",
    "    def pendulum_movement(\n",
    "        self, \n",
    "        pendulum_obj, \n",
    "        dt, \n",
    "        pin_obj,\n",
    "        weight_force=np.array([0., -1., 0.])\n",
    "    ):\n",
    "        unit_towards = self.vec_end(\n",
    "            pendulum_obj.get_center(),\n",
    "            pin_obj,\n",
    "            1\n",
    "        )\n",
    "        tension_force = self.vec_towards(\n",
    "            pendulum_obj.get_center(), \n",
    "            pin_obj, \n",
    "            1.5*self.find_cos(\n",
    "                unit_towards, \n",
    "                weight_force\n",
    "            )*la.norm(weight_force)\n",
    "        )\n",
    "        sum_force = self.add_forces(weight_force, tension_force)\n",
    "        acceleration = self.calculate_acceleration(sum_force)\n",
    "        pendulum_obj.shift(self.velocity)\n",
    "        self.calculate_velocity(a=acceleration, dt=dt)\n",
    "        \n",
    "    def calculate_velocity(self, a, dt):\n",
    "        self.velocity = self.velocity + a * dt\n",
    "        \n",
    "    def calculate_acceleration(self, force, mass=1):\n",
    "        return force/mass\n",
    "        \n",
    "    def add_forces(self, force1, force2):\n",
    "        return force1 + force2\n",
    "        \n",
    "    def unit_vector(self, vector):\n",
    "        return vector/la.norm(vector)\n",
    "    \n",
    "    def vec_towards(self, obj_coords, coords_towards, length):\n",
    "        vec = coords_towards - obj_coords\n",
    "        return self.unit_vector(vec) * length\n",
    "    \n",
    "    def vec_end(self, obj_coords, coords_towards, length):\n",
    "        return self.vec_towards(obj_coords, coords_towards, length) + obj_coords\n",
    "\n",
    "    def find_cos(self, vector1, vector2):\n",
    "        unit_v_1 = self.unit_vector(vector1)\n",
    "        unit_v_2 = self.unit_vector(vector2)\n",
    "        print(np.dot(unit_v_1, unit_v_2))\n",
    "        return np.dot(unit_v_1, unit_v_2) * (-1)\n",
    "    def construct(self):\n",
    "        fps = 60\n",
    "        dt = 1/fps\n",
    "        self.velocity = np.array([0.5, 0., 0.])\n",
    "        \n",
    "        pin = Dot(color=RED).shift(4*UP)\n",
    "        ball = Circle(color=BLUE, fill_opacity=1, radius=1)\n",
    "        ball.add_updater(\n",
    "            lambda m, dt: self.pendulum_movement(\n",
    "                m,\n",
    "                dt,\n",
    "                pin.get_center(),\n",
    "            )\n",
    "        )\n",
    "        #Vectors and string (should be fine)\n",
    "        string = Line(stroke_width=1, start=ball.get_center(), end=pin.get_center()).\\\n",
    "            add_updater(lambda m: m.become(Line(\n",
    "                stroke_width=1, start=ball.get_center(), end=pin.get_center())\n",
    "            ))\n",
    "        tension_vector = Arrow(\n",
    "            ball.get_center(), \n",
    "            self.vec_end(\n",
    "                ball.get_center(), \n",
    "                pin.get_center(), \n",
    "                2\n",
    "            ),\n",
    "            buff=0,\n",
    "            color=PURPLE\n",
    "        ).add_updater(lambda m: m.become(Arrow(\n",
    "            ball.get_center(), \n",
    "            self.vec_end(\n",
    "                ball.get_center(), \n",
    "                pin.get_center(), \n",
    "                2\n",
    "            ),\n",
    "            buff=0,\n",
    "            color=PURPLE))\n",
    "        )\n",
    "        weight_vector = Arrow(\n",
    "            start=ball.get_center(),\n",
    "            end=ball.get_center()+2*DOWN,\n",
    "            color=PURPLE,\n",
    "            buff=0\n",
    "        ).add_updater(lambda m: m.put_start_and_end_on(\n",
    "            ball.get_center(),\n",
    "            ball.get_center() + 2 * DOWN\n",
    "            )\n",
    "        )\n",
    "        self.add(ball, pin, string, tension_vector, weight_vector)\n",
    "        self.wait(10)\n",
    "        "
   ]
  },
  {
   "cell_type": "code",
   "execution_count": null,
   "id": "fe698f97",
   "metadata": {},
   "outputs": [],
   "source": []
  }
 ],
 "metadata": {
  "interpreter": {
   "hash": "369f2c481f4da34e4445cda3fffd2e751bd1c4d706f27375911949ba6bb62e1c"
  },
  "kernelspec": {
   "display_name": "Python 3.10.4 64-bit",
   "language": "python",
   "name": "python3"
  },
  "language_info": {
   "codemirror_mode": {
    "name": "ipython",
    "version": 3
   },
   "file_extension": ".py",
   "mimetype": "text/x-python",
   "name": "python",
   "nbconvert_exporter": "python",
   "pygments_lexer": "ipython3",
   "version": "3.10.4"
  }
 },
 "nbformat": 4,
 "nbformat_minor": 5
}
